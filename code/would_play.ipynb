{
 "cells": [
  {
   "cell_type": "code",
   "execution_count": 21,
   "metadata": {
    "ExecuteTime": {
     "end_time": "2020-11-22T19:45:56.034062Z",
     "start_time": "2020-11-22T19:45:55.590589Z"
    }
   },
   "outputs": [],
   "source": [
    "import gzip\n",
    "from collections import defaultdict\n",
    "import random\n",
    "from sklearn.metrics import accuracy_score, confusion_matrix\n",
    "import matplotlib.pyplot as plt\n",
    "from sklearn import linear_model\n",
    "import numpy as np\n",
    "import scipy"
   ]
  },
  {
   "cell_type": "code",
   "execution_count": 2,
   "metadata": {
    "ExecuteTime": {
     "end_time": "2020-11-22T19:40:36.368191Z",
     "start_time": "2020-11-22T19:40:36.365475Z"
    }
   },
   "outputs": [],
   "source": [
    "def readGz(path):\n",
    "    for l in gzip.open(path, 'rt'):\n",
    "        yield eval(l)"
   ]
  },
  {
   "cell_type": "code",
   "execution_count": 3,
   "metadata": {
    "ExecuteTime": {
     "end_time": "2020-11-22T19:40:41.963499Z",
     "start_time": "2020-11-22T19:40:41.960389Z"
    }
   },
   "outputs": [],
   "source": [
    "def readJSON(path):\n",
    "    f = gzip.open(path, 'rt')\n",
    "    f.readline()\n",
    "    for l in f:\n",
    "        d = eval(l)\n",
    "        u = d['userID']\n",
    "        g = d['gameID']\n",
    "        yield u,g,d"
   ]
  },
  {
   "cell_type": "code",
   "execution_count": 5,
   "metadata": {
    "ExecuteTime": {
     "end_time": "2020-11-22T19:40:59.027221Z",
     "start_time": "2020-11-22T19:40:52.874533Z"
    }
   },
   "outputs": [],
   "source": [
    "allHours = []\n",
    "for l in readJSON(\"../data/train.json.gz\"):\n",
    "    allHours.append(l)"
   ]
  },
  {
   "cell_type": "code",
   "execution_count": 7,
   "metadata": {
    "ExecuteTime": {
     "end_time": "2020-11-22T19:41:53.714948Z",
     "start_time": "2020-11-22T19:41:53.712994Z"
    }
   },
   "outputs": [],
   "source": [
    "##################################################\n",
    "# Read prediction                                #\n",
    "##################################################"
   ]
  },
  {
   "cell_type": "code",
   "execution_count": 11,
   "metadata": {
    "ExecuteTime": {
     "end_time": "2020-11-22T19:43:17.053060Z",
     "start_time": "2020-11-22T19:43:17.049754Z"
    }
   },
   "outputs": [],
   "source": [
    "# Utility data structures\n",
    "reviewsPerUser = defaultdict(list)\n",
    "reviewsPerGame = defaultdict(list)\n",
    "usersPerGame = defaultdict(set) # U_i from class slides\n",
    "gamesPerUser = defaultdict(set) # I_u from class slides\n",
    "users = set() # all users\n",
    "games = set() # all games"
   ]
  },
  {
   "cell_type": "code",
   "execution_count": 13,
   "metadata": {
    "ExecuteTime": {
     "end_time": "2020-11-22T19:43:50.298856Z",
     "start_time": "2020-11-22T19:43:43.106569Z"
    }
   },
   "outputs": [],
   "source": [
    "dataset = []\n",
    "\n",
    "for user,game,d in readJSON(\"../data/train.json.gz\"):\n",
    "    dataset.append([user, game])\n",
    "    reviewsPerUser[user].append(d)\n",
    "    reviewsPerGame[game].append(d)\n",
    "    usersPerGame[game].add(user)\n",
    "    gamesPerUser[user].add(game)\n",
    "    users.add(user)\n",
    "    games.add(game)"
   ]
  },
  {
   "cell_type": "code",
   "execution_count": 14,
   "metadata": {
    "ExecuteTime": {
     "end_time": "2020-11-22T19:44:03.333772Z",
     "start_time": "2020-11-22T19:44:03.325025Z"
    }
   },
   "outputs": [],
   "source": [
    "X_train = dataset[:165000]\n",
    "X_val = dataset[165000:]\n",
    "y = [1]*len(dataset)\n",
    "y_train = y[:165000]\n",
    "y_val = y[165000:]"
   ]
  },
  {
   "cell_type": "code",
   "execution_count": 15,
   "metadata": {
    "ExecuteTime": {
     "end_time": "2020-11-22T19:44:17.131381Z",
     "start_time": "2020-11-22T19:44:16.058144Z"
    }
   },
   "outputs": [],
   "source": [
    "# Add negative entries to validation set\n",
    "\n",
    "X_neg = []\n",
    "for user, game in X_val:\n",
    "    # sample negative entry by randomly hoosing a games that user hasn't played\n",
    "    neg_game = random.sample(games.difference(gamesPerUser[user]), 1)\n",
    "    X_neg.append([user, neg_game[0]])\n",
    "y_neg = [0]*len(X_neg)\n",
    "\n",
    "X_val.extend(X_neg)\n",
    "y_val.extend(y_neg)"
   ]
  },
  {
   "cell_type": "code",
   "execution_count": 16,
   "metadata": {
    "ExecuteTime": {
     "end_time": "2020-11-22T19:44:50.995486Z",
     "start_time": "2020-11-22T19:44:50.991849Z"
    }
   },
   "outputs": [],
   "source": [
    "def Jaccard(s1, s2):\n",
    "    numer = len(s1.intersection(s2))\n",
    "    denom = len(s1.union(s2))\n",
    "    if denom > 0:\n",
    "        return numer/denom\n",
    "    return 0"
   ]
  },
  {
   "cell_type": "code",
   "execution_count": 17,
   "metadata": {
    "ExecuteTime": {
     "end_time": "2020-11-22T19:45:03.858621Z",
     "start_time": "2020-11-22T19:45:03.842617Z"
    }
   },
   "outputs": [],
   "source": [
    "# Utility data structures\n",
    "usersPerGame = defaultdict(set) # U_i from class slides\n",
    "gamesPerUser = defaultdict(set) # I_u from class slides"
   ]
  },
  {
   "cell_type": "code",
   "execution_count": 18,
   "metadata": {
    "ExecuteTime": {
     "end_time": "2020-11-22T19:45:16.895414Z",
     "start_time": "2020-11-22T19:45:16.766663Z"
    }
   },
   "outputs": [],
   "source": [
    "for user, game in X_train:\n",
    "    usersPerGame[game].add(user)\n",
    "    gamesPerUser[user].add(game)"
   ]
  },
  {
   "cell_type": "code",
   "execution_count": 47,
   "metadata": {
    "ExecuteTime": {
     "end_time": "2020-11-22T20:10:08.425962Z",
     "start_time": "2020-11-22T20:10:08.421394Z"
    }
   },
   "outputs": [],
   "source": [
    "def predictPlaySim(user, game, threshold):\n",
    "    '''\n",
    "    Predicts would-play for a given user and game using Jaccard similarity metric.\n",
    "    Looks at all training games that user u has played and computes the Jaccard similarity between g and g'.\n",
    "    '''\n",
    "    similarities = []\n",
    "    for g in gamesPerUser[user]:\n",
    "        # exclude if game is query\n",
    "        if g == game: continue\n",
    "            \n",
    "        # add similarities\n",
    "        similarities.append(Jaccard(usersPerGame[game], usersPerGame[g]))\n",
    "    \n",
    "    if len(similarities) == 0:\n",
    "        return 0\n",
    "    mean_sim = sum(similarities)/len(similarities)\n",
    "    #print(mean_sim)\n",
    "    if mean_sim > threshold:\n",
    "        return 1\n",
    "    else:\n",
    "        return 0"
   ]
  },
  {
   "cell_type": "code",
   "execution_count": 75,
   "metadata": {
    "ExecuteTime": {
     "end_time": "2020-11-22T21:13:02.093452Z",
     "start_time": "2020-11-22T21:12:54.277382Z"
    }
   },
   "outputs": [
    {
     "data": {
      "text/plain": [
       "0.7113711371137114"
      ]
     },
     "execution_count": 75,
     "metadata": {},
     "output_type": "execute_result"
    }
   ],
   "source": [
    "# Once\n",
    "userPlayPredictions = [predictPlaySim(u, g, 0.009) for u, g in X_val]\n",
    "accuracy_score(y_val, userPlayPredictions)"
   ]
  },
  {
   "cell_type": "code",
   "execution_count": null,
   "metadata": {},
   "outputs": [],
   "source": []
  },
  {
   "cell_type": "code",
   "execution_count": 71,
   "metadata": {
    "ExecuteTime": {
     "end_time": "2020-11-22T21:09:34.489252Z",
     "start_time": "2020-11-22T21:02:51.300280Z"
    }
   },
   "outputs": [],
   "source": [
    "# Prediction using user-to-user similarity above for varying thresholds\n",
    "thresh = np.linspace(0.009050, 0.009150, 50)\n",
    "acc = []\n",
    "for t in thresh:\n",
    "    userPlayPredictions = [predictPlaySim(u, g, t) for u, g in X_val]\n",
    "    acc.append(accuracy_score(y_val, userPlayPredictions))"
   ]
  },
  {
   "cell_type": "code",
   "execution_count": 72,
   "metadata": {
    "ExecuteTime": {
     "end_time": "2020-11-22T21:09:53.215465Z",
     "start_time": "2020-11-22T21:09:53.098859Z"
    }
   },
   "outputs": [
    {
     "data": {
      "image/png": "[encoded data removed]",
      "text/plain": [
       "<Figure size 432x288 with 1 Axes>"
      ]
     },
     "metadata": {
      "needs_background": "light"
     },
     "output_type": "display_data"
    }
   ],
   "source": [
    "plt.plot(thresh, acc)\n",
    "plt.scatter(thresh[acc.index(max(acc))], max(acc), color='red')\n",
    "plt.xlabel('Threshold')\n",
    "plt.ylabel('Accuracy')\n",
    "plt.show()"
   ]
  },
  {
   "cell_type": "code",
   "execution_count": 73,
   "metadata": {
    "ExecuteTime": {
     "end_time": "2020-11-22T21:10:11.785765Z",
     "start_time": "2020-11-22T21:10:11.780822Z"
    }
   },
   "outputs": [
    {
     "name": "stdout",
     "output_type": "stream",
     "text": [
      "A threshold of 0.0090989796 gives 0.712071207120712 accuracy.\n"
     ]
    }
   ],
   "source": [
    "print(\"A threshold of {0} gives {1} accuracy.\".format(round(thresh[acc.index(max(acc))], 10), max(acc)))"
   ]
  },
  {
   "cell_type": "code",
   "execution_count": 74,
   "metadata": {
    "ExecuteTime": {
     "end_time": "2020-11-22T21:11:55.382158Z",
     "start_time": "2020-11-22T21:11:47.632338Z"
    }
   },
   "outputs": [],
   "source": [
    "predictions = open(\"../submissions/would_play.csv\", 'w')\n",
    "for l in open(\"../data/pairs_Played.txt\"):\n",
    "    if l.startswith(\"userID\"):\n",
    "        #header\n",
    "        predictions.write(l)\n",
    "        continue\n",
    "    u,g = l.strip().split('-')\n",
    "    \n",
    "    # make predictions\n",
    "    predictions.write(u + '-' + g + \",{}\\n\".format(predictPlaySim(u, g, 0.009)))\n",
    "\n",
    "predictions.close()"
   ]
  },
  {
   "cell_type": "code",
   "execution_count": null,
   "metadata": {},
   "outputs": [],
   "source": []
  },
  {
   "cell_type": "code",
   "execution_count": null,
   "metadata": {},
   "outputs": [],
   "source": [
    "#################################\n",
    "# Classification using features #\n",
    "#################################"
   ]
  },
  {
   "cell_type": "code",
   "execution_count": 100,
   "metadata": {
    "ExecuteTime": {
     "end_time": "2020-11-22T21:34:44.741050Z",
     "start_time": "2020-11-22T21:34:29.094555Z"
    }
   },
   "outputs": [],
   "source": [
    "# Add negative entries to training set\n",
    "X_neg = []\n",
    "for user, game in X_train:\n",
    "    # sample negative entry by randomly hoosing a games that user hasn't played\n",
    "    neg_game = random.sample(games.difference(gamesPerUser[user]), 1)\n",
    "    X_neg.append([user, neg_game[0]])\n",
    "y_neg = [0]*len(X_neg)\n",
    "\n",
    "X_train.extend(X_neg)\n",
    "y_train.extend(y_neg)"
   ]
  },
  {
   "cell_type": "code",
   "execution_count": 76,
   "metadata": {
    "ExecuteTime": {
     "end_time": "2020-11-22T21:13:24.934706Z",
     "start_time": "2020-11-22T21:13:24.929799Z"
    }
   },
   "outputs": [],
   "source": [
    "def meanSim(user, game):\n",
    "    '''\n",
    "    Gives mean similarity to of a certain game to all other games a user has \n",
    "    played using Jaccard similarity metric.\n",
    "    '''\n",
    "    similarities = []\n",
    "    for g in gamesPerUser[user]:\n",
    "        # exclude if game is query\n",
    "        if g == game: continue\n",
    "            \n",
    "        # add similarities\n",
    "        similarities.append(Jaccard(usersPerGame[game], usersPerGame[g]))\n",
    "    \n",
    "    if len(similarities) == 0:\n",
    "        return 0\n",
    "    mean_sim = sum(similarities)/len(similarities)\n",
    "    \n",
    "    return mean_sim"
   ]
  },
  {
   "cell_type": "code",
   "execution_count": 78,
   "metadata": {
    "ExecuteTime": {
     "end_time": "2020-11-22T21:14:38.732945Z",
     "start_time": "2020-11-22T21:14:38.687301Z"
    }
   },
   "outputs": [],
   "source": [
    "gameCount = defaultdict(int)\n",
    "totalPlayed = 0\n",
    "\n",
    "for user,game in X_train:\n",
    "    gameCount[game] += 1\n",
    "    totalPlayed += 1\n",
    "    \n",
    "mostPopular = [(gameCount[x], x) for x in gameCount]\n",
    "mostPopular.sort()\n",
    "mostPopular.reverse()   "
   ]
  },
  {
   "cell_type": "code",
   "execution_count": 91,
   "metadata": {
    "ExecuteTime": {
     "end_time": "2020-11-22T21:21:51.369996Z",
     "start_time": "2020-11-22T21:21:51.366918Z"
    }
   },
   "outputs": [],
   "source": [
    "def popularity(game):\n",
    "    count = [elem[0] for i, elem in enumerate(mostPopular) if game in elem]\n",
    "    if count == []:\n",
    "        return 0\n",
    "    else:\n",
    "        return count[0]"
   ]
  },
  {
   "cell_type": "code",
   "execution_count": 95,
   "metadata": {
    "ExecuteTime": {
     "end_time": "2020-11-22T21:24:39.255157Z",
     "start_time": "2020-11-22T21:24:39.252279Z"
    }
   },
   "outputs": [],
   "source": [
    "def feat(u,g):\n",
    "    return [popularity(g), meanSim(u, g)]"
   ]
  },
  {
   "cell_type": "code",
   "execution_count": 101,
   "metadata": {
    "ExecuteTime": {
     "end_time": "2020-11-22T21:38:28.603661Z",
     "start_time": "2020-11-22T21:35:04.779080Z"
    }
   },
   "outputs": [],
   "source": [
    "X_train_feat = [feat(u, g) for u, g in X_train]\n",
    "X_val_feat = [feat(u, g) for u, g in X_val]"
   ]
  },
  {
   "cell_type": "code",
   "execution_count": null,
   "metadata": {},
   "outputs": [],
   "source": []
  },
  {
   "cell_type": "code",
   "execution_count": 125,
   "metadata": {
    "ExecuteTime": {
     "end_time": "2020-11-22T22:03:44.789077Z",
     "start_time": "2020-11-22T22:03:41.604200Z"
    }
   },
   "outputs": [],
   "source": [
    "acc_c = []\n",
    "\n",
    "for c in [0.00001, 0.1, 0.5, 1]:\n",
    "    clf = linear_model.LogisticRegression(C=c, solver='lbfgs').fit(X_train_feat, y_train)\n",
    "    yPred = clf.predict(X_val_feat)\n",
    "    acc_c.append(accuracy_score(y_val, yPred))"
   ]
  },
  {
   "cell_type": "code",
   "execution_count": 126,
   "metadata": {
    "ExecuteTime": {
     "end_time": "2020-11-22T22:04:05.005478Z",
     "start_time": "2020-11-22T22:04:05.001539Z"
    }
   },
   "outputs": [
    {
     "data": {
      "text/plain": [
       "[0.6884688468846885,\n",
       " 0.6907190719071907,\n",
       " 0.6894689468946895,\n",
       " 0.6866186618661866]"
      ]
     },
     "execution_count": 126,
     "metadata": {},
     "output_type": "execute_result"
    }
   ],
   "source": [
    "acc_c"
   ]
  },
  {
   "cell_type": "code",
   "execution_count": 117,
   "metadata": {
    "ExecuteTime": {
     "end_time": "2020-11-22T21:56:47.207566Z",
     "start_time": "2020-11-22T21:56:32.370015Z"
    }
   },
   "outputs": [],
   "source": [
    "predictions = open(\"../submissions/would_play_clf.csv\", 'w')\n",
    "for l in open(\"../data/pairs_Played.txt\"):\n",
    "    if l.startswith(\"userID\"):\n",
    "        #header\n",
    "        predictions.write(l)\n",
    "        continue\n",
    "    u,g = l.strip().split('-')\n",
    "    \n",
    "    # make predictions\n",
    "    predictions.write(u + '-' + g + \",{}\\n\".format(clf.predict([feat(u,g)])[0]))\n",
    "\n",
    "predictions.close()"
   ]
  },
  {
   "cell_type": "code",
   "execution_count": 112,
   "metadata": {
    "ExecuteTime": {
     "end_time": "2020-11-22T21:54:41.287959Z",
     "start_time": "2020-11-22T21:54:41.283235Z"
    }
   },
   "outputs": [
    {
     "data": {
      "text/plain": [
       "[139, 0.01511080156152479]"
      ]
     },
     "execution_count": 112,
     "metadata": {},
     "output_type": "execute_result"
    }
   ],
   "source": [
    "feat('u42434461','b91625775')"
   ]
  },
  {
   "cell_type": "code",
   "execution_count": 115,
   "metadata": {
    "ExecuteTime": {
     "end_time": "2020-11-22T21:56:00.123384Z",
     "start_time": "2020-11-22T21:56:00.118900Z"
    }
   },
   "outputs": [
    {
     "data": {
      "text/plain": [
       "1"
      ]
     },
     "execution_count": 115,
     "metadata": {},
     "output_type": "execute_result"
    }
   ],
   "source": [
    "clf.predict([[139, 0.01511080156152479]])[0]"
   ]
  },
  {
   "cell_type": "code",
   "execution_count": null,
   "metadata": {},
   "outputs": [],
   "source": []
  }
 ],
 "metadata": {
  "kernelspec": {
   "display_name": "Python 3",
   "language": "python",
   "name": "python3"
  },
  "language_info": {
   "codemirror_mode": {
    "name": "ipython",
    "version": 3
   },
   "file_extension": ".py",
   "mimetype": "text/x-python",
   "name": "python",
   "nbconvert_exporter": "python",
   "pygments_lexer": "ipython3",
   "version": "3.8.3"
  },
  "varInspector": {
   "cols": {
    "lenName": 16,
    "lenType": 16,
    "lenVar": 40
   },
   "kernels_config": {
    "python": {
     "delete_cmd_postfix": "",
     "delete_cmd_prefix": "del ",
     "library": "var_list.py",
     "varRefreshCmd": "print(var_dic_list())"
    },
    "r": {
     "delete_cmd_postfix": ") ",
     "delete_cmd_prefix": "rm(",
     "library": "var_list.r",
     "varRefreshCmd": "cat(var_dic_list()) "
    }
   },
   "types_to_exclude": [
    "module",
    "function",
    "builtin_function_or_method",
    "instance",
    "_Feature"
   ],
   "window_display": false
  }
 },
 "nbformat": 4,
 "nbformat_minor": 2
}
